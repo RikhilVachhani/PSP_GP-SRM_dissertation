{
 "cells": [
  {
   "cell_type": "markdown",
   "id": "4dead50d",
   "metadata": {},
   "source": [
    "# Energy Score"
   ]
  },
  {
   "cell_type": "code",
   "execution_count": null,
   "id": "2893de4a",
   "metadata": {},
   "outputs": [],
   "source": [
    "def Energy_Score(energy_beta, observations_y, simulations_Y):\n",
    "\n",
    "    m = len(simulations_Y)\n",
    "\n",
    "    # First part |Y-y|. Gives the L2 dist scaled by power beta. Is a vector of length n/one value per location.\n",
    "    diff_Y_y = torch.pow(\n",
    "        torch.norm(\n",
    "            (observations_y.unsqueeze(1) -\n",
    "            simulations_Y.unsqueeze(0)).float(),\n",
    "            dim=2,keepdim=True).reshape(-1,1),\n",
    "        energy_beta)\n",
    "\n",
    "    # Second part |Y-Y'|. 2* because pdist counts only once.\n",
    "    diff_Y_Y = 2 * torch.pow(\n",
    "        nn.functional.pdist(simulations_Y),\n",
    "        energy_beta)\n",
    "    Energy = 2 * torch.mean(diff_Y_y) - torch.sum(diff_Y_Y) / (m * (m - 1))\n",
    "    return Energy\n",
    "\n",
    "def SR_eval_E(energy_beta, real_samples, fake_samples):\n",
    "    out = 0\n",
    "    for i in range(len(real_samples)):\n",
    "        out += Energy_Score(energy_beta, real_samples[i].view(-1,1), fake_samples[i].view(-1,1))\n",
    "    return out / (len(real_samples) + len(fake_samples)) \n"
   ]
  },
  {
   "cell_type": "code",
   "execution_count": null,
   "id": "ca41715d",
   "metadata": {},
   "outputs": [],
   "source": []
  },
  {
   "cell_type": "markdown",
   "id": "7a82a959",
   "metadata": {},
   "source": [
    "# Variogram Score"
   ]
  },
  {
   "cell_type": "code",
   "execution_count": null,
   "id": "0b231455",
   "metadata": {},
   "outputs": [],
   "source": [
    "def variogram(obs, sims, dist_mat, p):\n",
    "    '''\n",
    "    Variogram score from eq 10 in Pacchiardi paper [2024 Probabilistic Forecasting with Generative Networks\n",
    "    via Scoring Rule Minimization] in JMLR.\n",
    "\n",
    "    SR = sum_ij w_ij * (|y_i - y_j|^p - |Y_k,i - Y_k,j|^p)^2\n",
    "    '''\n",
    "    n = obs.size(0)\n",
    "    m = sims.size(0)\n",
    "    w_ij = torch.nan_to_num(1 / dist_mat, nan=0, posinf=0, neginf=0)\n",
    "    diff_y_y = torch.abs(obs.unsqueeze(1) - obs) ** p\n",
    "    diff_Y_Y = torch.abs(sims.unsqueeze(2) - sims.unsqueeze(1)).pow(p).mean(dim=0)\n",
    "\n",
    "    SR = w_ij * (diff_y_y - diff_Y_Y) ** 2\n",
    "    return SR.sum().item()\n",
    "\n",
    "\n",
    "def SR_eval_V(real_samples, fake_samples, distance_matrix, p):\n",
    "    vario_ = 0\n",
    "    for k in range(len(real_samples)):\n",
    "        multi = MultivariateNormal(torch.zeros(25), covariance_matrix=cov_.float())\n",
    "        sims = multi.sample((100,))\n",
    "        vario_ = torch.tensor(vario_) + variogram(real_samples[k], fake_samples, dist_mat, 1)\n",
    "    return vario_"
   ]
  },
  {
   "cell_type": "code",
   "execution_count": null,
   "id": "c0a92aff",
   "metadata": {},
   "outputs": [],
   "source": []
  },
  {
   "cell_type": "markdown",
   "id": "e8161f77",
   "metadata": {},
   "source": [
    "# Energy-Variogram Score"
   ]
  },
  {
   "cell_type": "code",
   "execution_count": null,
   "id": "e2c24158",
   "metadata": {},
   "outputs": [],
   "source": [
    "def SR_eval_EV(real_samples, fake_samples, energy_beta, distance_matrix, p):\n",
    "    a1 = 1  #weights of Energy and Variogram \n",
    "    a2 = 1 / 20000\n",
    "    SR_eval_V_result = SR_eval_V(real_samples, fake_samples, distance_matrix, p)  \n",
    "    SR_eval_E_result = SR_eval_E(energy_beta, real_samples, fake_samples)  \n",
    "    return (a1* SR_eval_E_result)  + (a2 * SR_eval_V_result)"
   ]
  }
 ],
 "metadata": {
  "kernelspec": {
   "display_name": "Python 3 (ipykernel)",
   "language": "python",
   "name": "python3"
  },
  "language_info": {
   "codemirror_mode": {
    "name": "ipython",
    "version": 3
   },
   "file_extension": ".py",
   "mimetype": "text/x-python",
   "name": "python",
   "nbconvert_exporter": "python",
   "pygments_lexer": "ipython3",
   "version": "3.11.5"
  }
 },
 "nbformat": 4,
 "nbformat_minor": 5
}
